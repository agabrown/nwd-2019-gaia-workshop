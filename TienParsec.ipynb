{
 "cells": [
  {
   "cell_type": "markdown",
   "metadata": {},
   "source": [
    "# Sterren binnen 10 parsec van de zon\n",
    "\n",
    "We gaan nu all sterren opvragen in de Gaia DR2 catalogus die zich op 10 parsec of minder van de zon bevinden dit betekent dat de parallax groter dan 10 mas moet zijn. \n",
    "\n",
    "## ADQL query\n",
    "\n",
    "We gebruiken de volgende ADQL query:\n",
    "\n",
    "```\n",
    " 1 select source_id, ra, dec, parallax, pmra, pmdec, radial_velocity, phot_g_mean_mag, bp_rp\n",
    " 2 from gaiadr2.gaia_source\n",
    " 3 where \n",
    " 4 parallax >= 100\n",
    " 5 and\n",
    " 6 bp_rp is not null\n",
    " 7 and\n",
    " 8 (astrometric_chi2_al/(astrometric_n_good_obs_al-5)<1.44*exp(-0.4*(phot_g_mean_mag-19.5))\n",
    " 9 or\n",
    "10 astrometric_chi2_al/(astrometric_n_good_obs_al-5)<1)\n",
    "11 and\n",
    "12 1.0+0.015*(bp_rp*bp_rp)<phot_bp_rp_excess_factor\n",
    "13 and\n",
    "14 1.3+0.06*(bp_rp*bp_rp)>phot_bp_rp_excess_factor\n",
    "```\n",
    "\n",
    "Dit ziet er wat ingewikkelder uit dan verwacht (we hoeven ten slotte alleen te selecteren op $\\varpi>100$ mas). De query kan in de volgende stappen onderverdeeld worden:\n",
    "* Regels 1 en 2 bevatten de instructie om uit het Gaia Archive de astrometrie en radi&euml;le snelheidsgegevens te halen. Er wordt ook gevraagd naar de schijnbare helderheid van de ster (`phot_g_mean_mag`) en de kleur (`bp_rp`) (daarover meer verderop in dit notebook).\n",
    "* Regels 3 en 4 bevatten de voorwaarde dat de parallax groter dan 100 milli-boogseconden moet zijn\n",
    "* De rest van de regels bevatten voorwaarden die ervoor zorgen dat we alleen betrouwbare gegevens uit de catalogus halen. Hiermee worden vooral sterren met foutieve parallax metingen weggefilterd.\n",
    "\n",
    "Omdat we nu de gegevens van meerdere sterren opvragen en we wellicht meerdere analyses will doen met dezelfde gegevens is het handig om deze als tabel op onze eigen harde schijf op te slaan. Voer de query uit in het web interface van het Gaia Archive (geef hierbij de query een naam zoals in het plaatje te zien net boven de query)\n",
    "\n",
    "<img src=\"./figuren/tenparsec-query.png\" />\n",
    "\n",
    "en klik vervolgens op het in het plaatje hierboven omcirkelde _download_ icoontje om de tabel te downloaden. De tabel wordt dan opgeslagen als `TienParsecSample-result.vot`. De tabel is voor de NWD workshop al klaargezet in de `data` folder (als `TienParsecSample.vot`) om zeker te zijn dat de gegevens beschikbaar zijn."
   ]
  }
 ],
 "metadata": {
  "kernelspec": {
   "display_name": "Python 3",
   "language": "python",
   "name": "python3"
  },
  "language_info": {
   "codemirror_mode": {
    "name": "ipython",
    "version": 3
   },
   "file_extension": ".py",
   "mimetype": "text/x-python",
   "name": "python",
   "nbconvert_exporter": "python",
   "pygments_lexer": "ipython3",
   "version": "3.6.7"
  }
 },
 "nbformat": 4,
 "nbformat_minor": 2
}
