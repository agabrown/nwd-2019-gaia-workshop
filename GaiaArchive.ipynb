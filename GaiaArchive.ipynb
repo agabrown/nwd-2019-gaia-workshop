{
 "cells": [
  {
   "cell_type": "markdown",
   "metadata": {},
   "source": [
    "# Gebruik van het Gaia Archive\n",
    "\n",
    "De Gaia data zijn publiekelijk beschikbaar via het Gaia Archive by het European Space Astronomy Centre van ESA. Ga met een browser naar [http://archives.esac.esa.int/gaia/](http://archives.esac.esa.int/gaia/) en dan zie je de volgende pagina:\n",
    "\n",
    "<img src=\"./figuren/gaia-archive-home.png\" />\n",
    "\n",
    "Er zijn aan de bovenkant van de pagina verschillende tabs, waarvan de _SEARCH_ tab toegang geeft to de data. De _HELP_ tab geeft toegang tot de uitgebreidere instructies over het gebruik van het Gaia Archive. Voor het gebruik van het archive is het handig om een account aan te maken met de _SIGN IN_ knop rechtsboven op de pagina:\n",
    "\n",
    "<img src=\"./figuren/gaia-archive-sign-in.png\" />\n",
    "\n",
    "Klik op _Register new user_ en volg dan de instructies om een account aan te maken. Het voordeel van een account is dat je in het Gaia Archive de beschikking krijgt over wat schijfruimte (1 Gigabyte) en dat de resultaten van het opvragen van Gaia data bewaard blijven. Ook krijg je meer rekentijd voor het opvragen van gegevens. Na het aanmaken van het account en inloggen op de site klikken we op de _SEARCH_ tab. Je krijgt dan het volgende te zien:\n",
    "\n",
    "<img src=\"./figuren/gaia-archive-basic.png\" />\n",
    "\n",
    "Met dit formulier kun je op een eenvoudige manier (zonder kennis van SQL of the astronomische variant ADQL) gegevens uit de Gaia database opvragen. Je kunt van een bepaalde ster de naam of de coordinaten opgeven om de gegevens in de database op te sporen. We gaan hier op zoek naar de astrometrische gegevens en radi&euml;le snelheid van Barnard's ster. Dit is de ster met de grootste eigenbeweging en verplaatst zich dus het snelst aan de hemel in de loop van de tijd. Dit is in het plaatje hieronder ge&iuml;llustreerd, een serie opnamen van Barnard's ster gemaakt van 1991 to 2007.\n",
    "\n",
    "<img src=\"./figuren/Barnard_1991_-to_2007.jpg\" style=\"width:80%\" />\n",
    "\n",
    "Door simpelweg \"Barnard's star\" in te voeren in het _name_ veld begint in de achtergrond en zoektocht naar de ster van deze naam (in de [SIMBAD](http://simbad.u-strasbg.fr/simbad/) catalogus) en wat de bijbehorende coordinaten aan de hemel zijn. Op basis hiervan wordt dan naar alle sterren binnen 5 boogseconden (5 arcsec = 5/3600 graad) van die coordinaten gezocht en dit resulteert in het geval van Barnard's ster maar in &eacute;&eacute;n \"match\", de goeie.\n",
    "\n",
    "<img src=\"./figuren/gaia-archive-basic-barnard.png\" />\n",
    "\n",
    "Voordat we op _Submit Query_ klikken gaan we eerst kiezen welke gegevens we uit de Gaia catalogus willen halen door op _Display columns_ te klikken (volgende plaatje).\n",
    "\n",
    "<img src=\"./figuren/gaia-archive-basic-barnard-configcols.png\" />\n",
    "\n",
    "We zien dan veel keuzemogelijkheden waarvan een aantal al aangevinkt zijn. De meeste daarvan hebben we niet nodig dus we halen alle vinkjes weg twee keer \"select all/none\" aan te vinken. Vervolgens vinken we alleen aan: het Gaia nummer van de ster `source_id`, de rechte klimming coordinaat `ra`, de declinatie coordinaat `dec`, de parallax `parallax`, de eigenbeweging in rechte klimming `pmra`, de eigenbeweging in declinatie `pmdec`, en de radi&euml;le snelheid `radial_velocity`.\n",
    "\n",
    "<img src=\"./figuren/gaia-archive-basic-barnard-astromandrvcols.png\" />\n",
    "\n",
    "Als we nu op _Submit Query_ klikken worden de gevraagde gegevens opgehaald en getoond:\n",
    "\n",
    "<img src=\"./figuren/gaia-archive-basic-barnard-result.png\" />\n",
    "\n",
    "Wie zien de volgende gegevens voor Barnard's ster:\n",
    "\n",
    "|Gegeven|Waarde|\n",
    "|-------|------|\n",
    "|Gaia nummer|$4472832130942575872$|\n",
    "|Rechte klimming $\\alpha$|$269.4486143580427^\\circ$|\n",
    "|Declinatie $\\delta$|$4.737980765585507^\\circ$|\n",
    "|Parallax $\\varpi$|$547.45$ mas|\n",
    "|Eigenbeweging rechte kliming $\\mu_{\\alpha*}$|$-802.803$ mas yr$^{-1}$|\n",
    "|Eigenbeweging declinatie $\\mu_\\delta$|$10362.542$ mas yr$^{-1}$|\n",
    "|Radi&euml;le snelheid $v_\\mathrm{rad}$|N/A|\n",
    "\n",
    "Barnard's ster heeft een parallax van $547.45$ mas en staat dus op een afstand van $1000/547.45=1.827$ parsec, dus zeer dichtbij. Er is geen radi&euml;le snelheid beschikbaar in de Gaia catalogus."
   ]
  }
 ],
 "metadata": {
  "kernelspec": {
   "display_name": "Python 3",
   "language": "python",
   "name": "python3"
  },
  "language_info": {
   "codemirror_mode": {
    "name": "ipython",
    "version": 3
   },
   "file_extension": ".py",
   "mimetype": "text/x-python",
   "name": "python",
   "nbconvert_exporter": "python",
   "pygments_lexer": "ipython3",
   "version": "3.6.7"
  }
 },
 "nbformat": 4,
 "nbformat_minor": 2
}
