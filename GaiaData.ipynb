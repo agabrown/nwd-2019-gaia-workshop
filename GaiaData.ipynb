{
 "cells": [
  {
   "cell_type": "markdown",
   "metadata": {},
   "source": [
    "# Gaia data: een korte inleiding\n",
    "\n",
    "In dit notebook wordt een korte uitleg gegeven over de data die in the Gaia catalogus te vinden zijn. De andere notebooks illustreren het gebruik van deze data aan de hand van code geschreven in Python.\n",
    "\n",
    "## Astrometrie\n",
    "\n",
    "Astrometrie is de tak van de sterrenkunde die zich bezig houdt met het nauwkeurig bepalen van de plaats van sterren aan de hemelbol. Door herhadelijk in de loop van de tijd deze plaats te bepalen kan gemeten worden hoe de ster langs de hemel beweegt en hoe ver weg de ster staat. De combinatie van deze gegevens met de snelheid van de ster in de gezichtslijn (gemeten met behulp van het Doppler effect in de spectraallijnen van de ster) vertelt ons hoe de ster door de ruimte beweegt.\n",
    "\n",
    "### Ster coordinaten aan de hemel\n",
    "\n",
    "De plaats van een ster aan de hemel wordt gegeven door de richting naar de ster te beschrijven met twee hoeken die gedefini&euml;erd zijn ten opzicht van een bepaald Cartesisch coordinaten stelsel. De volgende figuur laat zien hoe de plaats van een ster $S$ aan de hemel gegeven wordt door de hoeken $\\alpha$ (rechte klimming) en $\\delta$ (declinatie), die de orientatie van de richtingsvector geven van de oorsprong van het coordinatenstelsel $O$ naar $S$ (waarbij de waarnemer zich in $O$ bevindt).\n",
    "\n",
    "<img src=\"figuren/ster-coordinaten.png\" />\n",
    "\n",
    "Deze hoeken worden in de Gaia catalogus gegeven voor iedere ster en zijn losjes gesproken analoog aan de lengte- en breedtegraad van plekken op aarde (zoals aangegeven met de \"evenaar\" en de richting naar het \"noorden\". De assen van dit coordinatenstelsel (het \"international celestial reference frame\") worden in de praktijk gedefini&euml;erd door de richtingen $(\\alpha,\\delta)$ af te spreken van een vaste verzameling quasars.\n",
    "\n",
    "in de bovenstaande figuur staat de ster niet alleen in de richting $(\\alpha,\\delta)$, gezien vanuit $O$, maar ook op een afstand $d$. De drie-dimensionale positie van de ster in de ruimte is dan:\n",
    "\n",
    "\\begin{equation}\n",
    "    \\begin{pmatrix} x_S\\\\ y_S\\\\ z_S \\end{pmatrix} =\n",
    "    \\begin{pmatrix} d\\cos\\delta\\cos\\alpha \\\\ d\\cos\\delta\\sin\\alpha \\\\ d\\sin\\delta \\end{pmatrix}\\,.\n",
    "\\end{equation}\n",
    "\n",
    "### Eigenbeweging\n",
    "\n",
    "### Parallax\n",
    "\n",
    "## Radi&euml;le snelheid"
   ]
  }
 ],
 "metadata": {
  "kernelspec": {
   "display_name": "Python 3",
   "language": "python",
   "name": "python3"
  },
  "language_info": {
   "codemirror_mode": {
    "name": "ipython",
    "version": 3
   },
   "file_extension": ".py",
   "mimetype": "text/x-python",
   "name": "python",
   "nbconvert_exporter": "python",
   "pygments_lexer": "ipython3",
   "version": "3.6.6"
  }
 },
 "nbformat": 4,
 "nbformat_minor": 2
}
