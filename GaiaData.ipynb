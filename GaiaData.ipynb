{
 "cells": [
  {
   "cell_type": "markdown",
   "metadata": {},
   "source": [
    "# Gaia data: een korte inleiding\n",
    "\n",
    "In dit notebook wordt een korte uitleg gegeven over de data die in the Gaia catalogus te vinden zijn. De andere notebooks illustreren het gebruik van deze data aan de hand van code geschreven in Python.\n",
    "\n",
    "## Astrometrie\n",
    "\n",
    "Astrometrie is de tak van de sterrenkunde die zich bezig houdt met het nauwkeurig bepalen van de plaats van sterren aan de hemelbol. De plaats van een ster aan de hemel wordt gegeven door de richting naar de ster te beschrijven met twee hoeken die gedefiniëerd zijn ten opzicht van een bepaald Cartesisch coordinaten stelsel. De volgende figuur laat zien hoe de plaats van een ster aan de hemel gegeven wordt door de hoeken $\\alpha$ (rechte klimming) en $\\delta$ declinatie. Deze hoeken worden in de Gaia catalogus gegeven voor iedere ster en zijn losjes gesproken analoog aan de lengte en breedtegraad van plaatsen op de aardbol."
   ]
  }
 ],
 "metadata": {
  "kernelspec": {
   "display_name": "Python 3",
   "language": "python",
   "name": "python3"
  },
  "language_info": {
   "codemirror_mode": {
    "name": "ipython",
    "version": 3
   },
   "file_extension": ".py",
   "mimetype": "text/x-python",
   "name": "python",
   "nbconvert_exporter": "python",
   "pygments_lexer": "ipython3",
   "version": "3.6.7"
  }
 },
 "nbformat": 4,
 "nbformat_minor": 2
}
